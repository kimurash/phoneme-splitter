{
 "cells": [
  {
   "cell_type": "code",
   "execution_count": 1,
   "metadata": {},
   "outputs": [
    {
     "data": {
      "text/html": [
       "<style>\n",
       "    body {\n",
       "        --vscode-font-family: \"Consolas\", \"Noto Sans CJK JP Regular\";\n",
       "        line-height: 180%;\n",
       "    }\n",
       "</style>\n"
      ],
      "text/plain": [
       "<IPython.core.display.HTML object>"
      ]
     },
     "metadata": {},
     "output_type": "display_data"
    }
   ],
   "source": [
    "%%HTML\n",
    "<style>\n",
    "    body {\n",
    "        --vscode-font-family: \"Consolas\", \"Noto Sans CJK JP Regular\";\n",
    "        line-height: 180%;\n",
    "    }\n",
    "</style>"
   ]
  },
  {
   "cell_type": "markdown",
   "metadata": {},
   "source": [
    "- wav/内の.wavファイルについてループ\n",
    "  - 同じ名前の.labファイルを読み込む．\n",
    "  - 同じ名前でresult配下にディレクトリが無ければ作成する．\n",
    "  - .labファイルに記載された間隔で.wavファイルを分割する．\n",
    "  - wav/basename/内に分割した.wavファイルを出力する．"
   ]
  },
  {
   "cell_type": "code",
   "execution_count": 1,
   "metadata": {},
   "outputs": [],
   "source": [
    "import os\n",
    "import wave\n",
    "import math"
   ]
  },
  {
   "cell_type": "code",
   "execution_count": 3,
   "metadata": {},
   "outputs": [],
   "source": [
    "for file in os.listdir('../wav'):\n",
    "    basename, ext = os.path.splitext(file)\n",
    "    if ext == '.wav':\n",
    "        # セグメントを取得する\n",
    "        segments = list()\n",
    "        with open(f'../wav/{basename}.lab', 'r') as lab:\n",
    "            for line in lab:\n",
    "                columns = line.strip().split(' ')\n",
    "                if columns[2] == 'silB' or columns[2] == 'silE':\n",
    "                    continue\n",
    "\n",
    "                segments.append((float(columns[0]), float(columns[1])))\n",
    "\n",
    "        # 出力先のディレクトリを作成する\n",
    "        if not os.path.exists(f'../result/{basename}'):\n",
    "            os.mkdir(f'../result/{basename}')\n",
    "\n",
    "        # 音声ファイルを読み込む\n",
    "        whole = wave.open(f'../wav/{basename}.wav', 'r')\n",
    "        fs = whole.getframerate()\n",
    "\n",
    "        # 音声を分割して出力する\n",
    "        for n, (begin, end) in enumerate(segments):\n",
    "            whole.setpos(math.floor(begin * fs))\n",
    "            frames = whole.readframes(math.ceil((end - begin) * fs))\n",
    "\n",
    "            with wave.open(f'../result/{basename}/{n}.wav', 'w') as seg:\n",
    "                seg.setnchannels(whole.getnchannels())\n",
    "                seg.setsampwidth(whole.getsampwidth())\n",
    "                seg.setframerate(whole.getframerate())\n",
    "                seg.writeframes(frames)"
   ]
  }
 ],
 "metadata": {
  "kernelspec": {
   "display_name": ".venv",
   "language": "python",
   "name": "python3"
  },
  "language_info": {
   "codemirror_mode": {
    "name": "ipython",
    "version": 3
   },
   "file_extension": ".py",
   "mimetype": "text/x-python",
   "name": "python",
   "nbconvert_exporter": "python",
   "pygments_lexer": "ipython3",
   "version": "3.11.3"
  }
 },
 "nbformat": 4,
 "nbformat_minor": 2
}
